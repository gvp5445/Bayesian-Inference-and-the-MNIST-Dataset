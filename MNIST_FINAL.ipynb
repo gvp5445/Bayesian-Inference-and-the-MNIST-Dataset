{
  "nbformat": 4,
  "nbformat_minor": 0,
  "metadata": {
    "colab": {
      "provenance": [],
      "toc_visible": true
    },
    "kernelspec": {
      "name": "python3",
      "display_name": "Python 3"
    },
    "language_info": {
      "name": "python"
    }
  },
  "cells": [
    {
      "cell_type": "markdown",
      "source": [
        "# Libraries"
      ],
      "metadata": {
        "id": "iLC4CyMarCwE"
      }
    },
    {
      "cell_type": "code",
      "source": [
        "\n",
        "import pandas as pd\n",
        "import numpy as np\n",
        "import matplotlib.pyplot as plt\n",
        "import seaborn as sns\n",
        "from scipy.stats import multivariate_normal as mvn\n",
        "from google.colab import drive\n"
      ],
      "metadata": {
        "id": "URz1ysID37WR"
      },
      "execution_count": 11,
      "outputs": []
    },
    {
      "cell_type": "markdown",
      "source": [
        "# Mount the G Drive to read the dataset"
      ],
      "metadata": {
        "id": "0Aa_N5_8rGxm"
      }
    },
    {
      "cell_type": "code",
      "source": [
        "drive.mount('/content/drive/')"
      ],
      "metadata": {
        "id": "D1rzovB15Oce"
      },
      "execution_count": null,
      "outputs": []
    },
    {
      "cell_type": "code",
      "source": [
        "train_df = pd.read_csv(\"/content/drive/MyDrive/Dataset/MNIST_train.csv\")\n",
        "test_df = pd.read_csv(\"/content/drive/MyDrive/Dataset/MNIST_test.csv\")"
      ],
      "metadata": {
        "id": "YtU9z-HC4CjJ"
      },
      "execution_count": 3,
      "outputs": []
    },
    {
      "cell_type": "markdown",
      "source": [
        "# Data Analysis"
      ],
      "metadata": {
        "id": "GtPu-iRxrMWg"
      }
    },
    {
      "cell_type": "code",
      "source": [
        "# Data Analysis\n",
        "print(\"Training Data Shape:\", train_df.shape)\n",
        "print(\"Test Data Shape:\", test_df.shape)\n"
      ],
      "metadata": {
        "colab": {
          "base_uri": "https://localhost:8080/"
        },
        "id": "kiAWmumx4QjI",
        "outputId": "82e5bd5d-3e8e-4a06-9dc5-72516f4a8b13"
      },
      "execution_count": 5,
      "outputs": [
        {
          "output_type": "stream",
          "name": "stdout",
          "text": [
            "Training Data Shape: (60000, 787)\n",
            "Test Data Shape: (10000, 787)\n"
          ]
        }
      ]
    },
    {
      "cell_type": "code",
      "source": [
        "print(\"Training Data Info:\")\n",
        "print(train_df.info())\n"
      ],
      "metadata": {
        "colab": {
          "base_uri": "https://localhost:8080/"
        },
        "id": "C_3dlFcy4cIp",
        "outputId": "deecf733-6dce-4765-b875-49f3ac7d98c6"
      },
      "execution_count": 6,
      "outputs": [
        {
          "output_type": "stream",
          "name": "stdout",
          "text": [
            "Training Data Info:\n",
            "<class 'pandas.core.frame.DataFrame'>\n",
            "RangeIndex: 60000 entries, 0 to 59999\n",
            "Columns: 787 entries, Unnamed: 0 to 783\n",
            "dtypes: int64(787)\n",
            "memory usage: 360.3 MB\n",
            "None\n"
          ]
        }
      ]
    },
    {
      "cell_type": "code",
      "source": [
        "print(\"Training Data Description:\")\n",
        "print(train_df.describe())"
      ],
      "metadata": {
        "colab": {
          "base_uri": "https://localhost:8080/"
        },
        "id": "nzvyL2Iy4fDk",
        "outputId": "7b7b309a-ed45-4290-ac7a-0a8ba819f498"
      },
      "execution_count": 7,
      "outputs": [
        {
          "output_type": "stream",
          "name": "stdout",
          "text": [
            "Training Data Description:\n",
            "         Unnamed: 0         index        labels        0        1        2  \\\n",
            "count  60000.000000  60000.000000  60000.000000  60000.0  60000.0  60000.0   \n",
            "mean   29999.500000  29999.500000      4.453933      0.0      0.0      0.0   \n",
            "std    17320.652413  17320.652413      2.889270      0.0      0.0      0.0   \n",
            "min        0.000000      0.000000      0.000000      0.0      0.0      0.0   \n",
            "25%    14999.750000  14999.750000      2.000000      0.0      0.0      0.0   \n",
            "50%    29999.500000  29999.500000      4.000000      0.0      0.0      0.0   \n",
            "75%    44999.250000  44999.250000      7.000000      0.0      0.0      0.0   \n",
            "max    59999.000000  59999.000000      9.000000      0.0      0.0      0.0   \n",
            "\n",
            "             3        4        5        6  ...           774           775  \\\n",
            "count  60000.0  60000.0  60000.0  60000.0  ...  60000.000000  60000.000000   \n",
            "mean       0.0      0.0      0.0      0.0  ...      0.200433      0.088867   \n",
            "std        0.0      0.0      0.0      0.0  ...      6.042472      3.956189   \n",
            "min        0.0      0.0      0.0      0.0  ...      0.000000      0.000000   \n",
            "25%        0.0      0.0      0.0      0.0  ...      0.000000      0.000000   \n",
            "50%        0.0      0.0      0.0      0.0  ...      0.000000      0.000000   \n",
            "75%        0.0      0.0      0.0      0.0  ...      0.000000      0.000000   \n",
            "max        0.0      0.0      0.0      0.0  ...    254.000000    254.000000   \n",
            "\n",
            "                776           777           778         779      780      781  \\\n",
            "count  60000.000000  60000.000000  60000.000000  60000.0000  60000.0  60000.0   \n",
            "mean       0.045633      0.019283      0.015117      0.0020      0.0      0.0   \n",
            "std        2.839845      1.686770      1.678283      0.3466      0.0      0.0   \n",
            "min        0.000000      0.000000      0.000000      0.0000      0.0      0.0   \n",
            "25%        0.000000      0.000000      0.000000      0.0000      0.0      0.0   \n",
            "50%        0.000000      0.000000      0.000000      0.0000      0.0      0.0   \n",
            "75%        0.000000      0.000000      0.000000      0.0000      0.0      0.0   \n",
            "max      253.000000    253.000000    254.000000     62.0000      0.0      0.0   \n",
            "\n",
            "           782      783  \n",
            "count  60000.0  60000.0  \n",
            "mean       0.0      0.0  \n",
            "std        0.0      0.0  \n",
            "min        0.0      0.0  \n",
            "25%        0.0      0.0  \n",
            "50%        0.0      0.0  \n",
            "75%        0.0      0.0  \n",
            "max        0.0      0.0  \n",
            "\n",
            "[8 rows x 787 columns]\n"
          ]
        }
      ]
    },
    {
      "cell_type": "markdown",
      "source": [
        "# Checking Null Values"
      ],
      "metadata": {
        "id": "H78p49n-rSjI"
      }
    },
    {
      "cell_type": "code",
      "source": [
        "# Check for any missing values\n",
        "print(\"Missing Values in Training Data:\")\n",
        "print(train_df.isnull().sum().sum())"
      ],
      "metadata": {
        "colab": {
          "base_uri": "https://localhost:8080/"
        },
        "id": "zA_nfN614juD",
        "outputId": "f252d4db-50c9-4fd1-d907-f5e1189a14f1"
      },
      "execution_count": 8,
      "outputs": [
        {
          "output_type": "stream",
          "name": "stdout",
          "text": [
            "Missing Values in Training Data:\n",
            "0\n"
          ]
        }
      ]
    },
    {
      "cell_type": "markdown",
      "source": [
        "# Plotting the sample images of the digits"
      ],
      "metadata": {
        "id": "zFtGfjWZrXN7"
      }
    },
    {
      "cell_type": "code",
      "source": [
        "def plot_samples(dataframe, n_samples=10):\n",
        "    plt.figure(figsize=(10, 4))\n",
        "    for i in range(n_samples):\n",
        "        plt.subplot(2, 5, i + 1)\n",
        "        plt.imshow(dataframe.iloc[i, 3:].values.reshape(28, 28), cmap='gray')\n",
        "        plt.title(dataframe.iloc[i]['labels'])\n",
        "        plt.axis('off')\n",
        "    plt.tight_layout()\n",
        "    plt.show()\n",
        "\n",
        "\n",
        "plot_samples(train_df, n_samples=10)"
      ],
      "metadata": {
        "colab": {
          "base_uri": "https://localhost:8080/",
          "height": 410
        },
        "id": "7Em63GnA42YR",
        "outputId": "95ec9a88-51fd-4e9f-add3-66c480bcd764"
      },
      "execution_count": 9,
      "outputs": [
        {
          "output_type": "display_data",
          "data": {
            "text/plain": [
              "<Figure size 1000x400 with 10 Axes>"
            ],
            "image/png": "[encoded data removed]"
          },
          "metadata": {}
        }
      ]
    },
    {
      "cell_type": "code",
      "source": [
        "# Distribution of Labels\n",
        "plt.figure(figsize=(10, 6))\n",
        "sns.countplot(x='labels', data=train_df)\n",
        "plt.title(\"Distribution of Digits (Labels)\")\n",
        "plt.xlabel(\"Digits\")\n",
        "plt.ylabel(\"Count\")\n",
        "plt.xticks(rotation=0)\n",
        "plt.show()"
      ],
      "metadata": {
        "colab": {
          "base_uri": "https://localhost:8080/",
          "height": 564
        },
        "id": "d6xtnLKl5LHT",
        "outputId": "1130dbd2-011a-458f-d347-83483e44b058"
      },
      "execution_count": 14,
      "outputs": [
        {
          "output_type": "display_data",
          "data": {
            "text/plain": [
              "<Figure size 1000x600 with 1 Axes>"
            ],
            "image/png": "[encoded data removed]"
          },
          "metadata": {}
        }
      ]
    },
    {
      "cell_type": "markdown",
      "source": [
        "# Dropping unwanted features in the dataframe\n"
      ],
      "metadata": {
        "id": "snSikG8yriXV"
      }
    },
    {
      "cell_type": "code",
      "source": [
        "X_train = train_df.drop(columns=['Unnamed: 0', 'index', 'labels']).values\n",
        "y_train = train_df['labels'].values\n",
        "\n",
        "X_test = test_df.drop(columns=['Unnamed: 0', 'index', 'labels']).values\n",
        "y_test = test_df['labels'].values\n"
      ],
      "metadata": {
        "id": "au9jkQFd5zcg"
      },
      "execution_count": 15,
      "outputs": []
    },
    {
      "cell_type": "code",
      "source": [
        "X_train"
      ],
      "metadata": {
        "colab": {
          "base_uri": "https://localhost:8080/"
        },
        "id": "OVC1SMuC54TU",
        "outputId": "10aafc17-eaea-4c63-e7f1-0f88c602e0dc"
      },
      "execution_count": 18,
      "outputs": [
        {
          "output_type": "execute_result",
          "data": {
            "text/plain": [
              "array([[0, 0, 0, ..., 0, 0, 0],\n",
              "       [0, 0, 0, ..., 0, 0, 0],\n",
              "       [0, 0, 0, ..., 0, 0, 0],\n",
              "       ...,\n",
              "       [0, 0, 0, ..., 0, 0, 0],\n",
              "       [0, 0, 0, ..., 0, 0, 0],\n",
              "       [0, 0, 0, ..., 0, 0, 0]])"
            ]
          },
          "metadata": {},
          "execution_count": 18
        }
      ]
    },
    {
      "cell_type": "code",
      "source": [
        "y_train"
      ],
      "metadata": {
        "colab": {
          "base_uri": "https://localhost:8080/"
        },
        "id": "84Q-6o8y5-JE",
        "outputId": "1ae0da0f-d697-4473-b103-6f553d679650"
      },
      "execution_count": 19,
      "outputs": [
        {
          "output_type": "execute_result",
          "data": {
            "text/plain": [
              "array([5, 0, 4, ..., 5, 6, 8])"
            ]
          },
          "metadata": {},
          "execution_count": 19
        }
      ]
    },
    {
      "cell_type": "markdown",
      "source": [
        "\n",
        "\n",
        "# Normalisation"
      ],
      "metadata": {
        "id": "Y3XA9lO5rqCR"
      }
    },
    {
      "cell_type": "code",
      "source": [
        "X_train_norm = X_train / 255.0\n",
        "X_test_norm = X_test / 255.0"
      ],
      "metadata": {
        "id": "w1YzaPeY6CX8"
      },
      "execution_count": 20,
      "outputs": []
    },
    {
      "cell_type": "markdown",
      "source": [
        "# Convert into the numpy's"
      ],
      "metadata": {
        "id": "qERTeIzLr2ww"
      }
    },
    {
      "cell_type": "code",
      "source": [
        "# Convert to NumPy arrays\n",
        "X_train = np.array(X_train_norm)\n",
        "y_train = np.array(y_train)\n",
        "X_test = np.array(X_test_norm)\n",
        "y_test = np.array(y_test)"
      ],
      "metadata": {
        "id": "Vhrb8Phl6FKo"
      },
      "execution_count": 23,
      "outputs": []
    },
    {
      "cell_type": "markdown",
      "source": [
        "#  3 Classifiers\n",
        "## 1. GaussNB: Naive Bayes Classifier\n",
        "## 2. GaussBayes: Non - Naive Bayes\n",
        "## 3. KNNClassifier: K Nearest Neighbour Classifier\n"
      ],
      "metadata": {
        "id": "cCGSed-JsAgE"
      }
    },
    {
      "cell_type": "code",
      "source": [
        "class GaussNB:\n",
        "    def fit(self, X, y, epsilon=1e-3):\n",
        "        self.likelihoods = dict()\n",
        "        self.priors = dict()\n",
        "        self.K = set(y.astype(int))\n",
        "\n",
        "        for k in self.K:\n",
        "            X_k = X[y == k]\n",
        "            self.likelihoods[k] = {\"mean\": X_k.mean(axis=0), \"cov\": X_k.var(axis=0) + epsilon}\n",
        "            self.priors[k] = len(X_k) / len(X)\n",
        "\n",
        "    def predict(self, X):\n",
        "        N, D = X.shape\n",
        "        P_hat = np.zeros((N, len(self.K)))\n",
        "\n",
        "        for k, l in self.likelihoods.items():\n",
        "            P_hat[:, k] = mvn.logpdf(X, l[\"mean\"], l[\"cov\"]) + np.log(self.priors[k])\n",
        "\n",
        "        return P_hat.argmax(axis=1)\n",
        "\n",
        "class GaussBayes:\n",
        "    def fit(self, X, y, epsilon=1e-3):\n",
        "        self.likelihoods = dict()\n",
        "        self.priors = dict()\n",
        "        self.K = set(y.astype(int))\n",
        "\n",
        "        for k in self.K:\n",
        "            X_k = X[y == k, :]\n",
        "            N_k, D = X_k.shape\n",
        "            mu_k = X_k.mean(axis=0)\n",
        "\n",
        "            self.likelihoods[k] = {\n",
        "                \"mean\": mu_k,\n",
        "                \"cov\": (1 / (N_k - 1)) * np.matmul((X_k - mu_k).T, (X_k - mu_k)) + epsilon * np.identity(D)\n",
        "            }\n",
        "            self.priors[k] = len(X_k) / len(X)\n",
        "\n",
        "    def predict(self, X):\n",
        "        N, D = X.shape\n",
        "        P_hat = np.zeros((N, len(self.K)))\n",
        "        for k, l in self.likelihoods.items():\n",
        "            P_hat[:, k] = mvn.logpdf(X, l[\"mean\"], l[\"cov\"]) + np.log(self.priors[k])\n",
        "\n",
        "        return P_hat.argmax(axis=1)\n",
        "\n",
        "class KNNClassifier:\n",
        "    def fit(self, X, y):\n",
        "        self.X = X\n",
        "        self.y = y\n",
        "\n",
        "    def predict(self, X, K, epsilon=1e-3):\n",
        "        N = len(X)\n",
        "        y_hat = np.zeros(N)\n",
        "\n",
        "        for i in range(N):\n",
        "            dist2 = np.sum(((self.X - X[i]) ** 2), axis=1)\n",
        "            idxt = np.argsort(dist2)[:K]\n",
        "            gamma_k = 1 / (np.sqrt(dist2[idxt] + epsilon))\n",
        "            y_hat[i] = np.bincount(self.y[idxt], weights=gamma_k).argmax()\n",
        "\n",
        "        return y_hat"
      ],
      "metadata": {
        "id": "lf2DWNbZ6POU"
      },
      "execution_count": 25,
      "outputs": []
    },
    {
      "cell_type": "markdown",
      "source": [
        "# Testing with the epsilon values"
      ],
      "metadata": {
        "id": "Ej6zgsKjsXA7"
      }
    },
    {
      "cell_type": "code",
      "source": [
        "# epsilon values to test\n",
        "epsilon_values = [1e-3, 1e-2, 1e-1, 1e0]\n",
        "results = []"
      ],
      "metadata": {
        "id": "y3n2v_x-7Emr"
      },
      "execution_count": 26,
      "outputs": []
    },
    {
      "cell_type": "code",
      "source": [
        "for epsilon in epsilon_values:\n",
        "    nb_classifier = GaussNB()\n",
        "    nb_classifier.fit(X_train, y_train, epsilon)\n",
        "    y_pred_nb = nb_classifier.predict(X_test)\n",
        "    accuracy_nb = np.mean(y_pred_nb == y_test)\n",
        "    results.append({\"Classifier\": \"Naive Bayes\", \"Epsilon\": epsilon, \"Accuracy\": accuracy_nb})\n",
        "\n",
        "    non_nb_classifier = GaussBayes()\n",
        "    non_nb_classifier.fit(X_train, y_train, epsilon)\n",
        "    y_pred_non_nb = non_nb_classifier.predict(X_test)\n",
        "    accuracy_non_nb = np.mean(y_pred_non_nb == y_test)\n",
        "    results.append({\"Classifier\": \"Non-Naive Bayes\", \"Epsilon\": epsilon, \"Accuracy\": accuracy_non_nb})\n",
        "\n",
        "    knn_classifier = KNNClassifier()\n",
        "    knn_classifier.fit(X_train, y_train)\n",
        "    y_pred_knn = knn_classifier.predict(X_test, K=3, epsilon=epsilon)\n",
        "    accuracy_knn = np.mean(y_pred_knn == y_test)\n",
        "    results.append({\"Classifier\": \"KNN\", \"Epsilon\": epsilon, \"Accuracy\": accuracy_knn})\n"
      ],
      "metadata": {
        "id": "J4EkltnY7KXq"
      },
      "execution_count": 27,
      "outputs": []
    },
    {
      "cell_type": "code",
      "source": [
        "# DataFrame for results\n",
        "results_df = pd.DataFrame(results)"
      ],
      "metadata": {
        "id": "yYDYCFb97eVP"
      },
      "execution_count": 28,
      "outputs": []
    },
    {
      "cell_type": "markdown",
      "source": [
        "# Best Accuracy Results"
      ],
      "metadata": {
        "id": "7_F3bG-Lsfim"
      }
    },
    {
      "cell_type": "code",
      "source": [
        "print(results_df)"
      ],
      "metadata": {
        "colab": {
          "base_uri": "https://localhost:8080/"
        },
        "id": "qS9a8Dea7eib",
        "outputId": "a6a44c7e-5bdb-4203-a497-96cafe34c66a"
      },
      "execution_count": 29,
      "outputs": [
        {
          "output_type": "stream",
          "name": "stdout",
          "text": [
            "         Classifier  Epsilon  Accuracy\n",
            "0       Naive Bayes    0.001    0.7746\n",
            "1   Non-Naive Bayes    0.001    0.9108\n",
            "2               KNN    0.001    0.9717\n",
            "3       Naive Bayes    0.010    0.8141\n",
            "4   Non-Naive Bayes    0.010    0.9473\n",
            "5               KNN    0.010    0.9717\n",
            "6       Naive Bayes    0.100    0.7791\n",
            "7   Non-Naive Bayes    0.100    0.9542\n",
            "8               KNN    0.100    0.9717\n",
            "9       Naive Bayes    1.000    0.6791\n",
            "10  Non-Naive Bayes    1.000    0.8847\n",
            "11              KNN    1.000    0.9717\n"
          ]
        }
      ]
    },
    {
      "cell_type": "code",
      "source": [
        "data = {\n",
        "    \"Epsilon\": [\"1e-3 (0.001)\", \"1e-2 (0.01)\", \"1e-1 (0.1)\", \"1e0 (1.0)\"],\n",
        "    \"Naive Bayes\": [0.7746, 0.8141, 0.7791, 0.6791],\n",
        "    \"Non-Naive Bayes\": [0.9108, 0.9473, 0.9542, 0.8847],\n",
        "    \"KNN\": [0.9717, 0.9717, 0.9717, 0.9717],\n",
        "}\n",
        "\n",
        "results_df = pd.DataFrame(data)\n",
        "print(results_df)\n"
      ],
      "metadata": {
        "colab": {
          "base_uri": "https://localhost:8080/"
        },
        "id": "vdwfFOnSn0V9",
        "outputId": "647cb7e0-552e-45cb-ddfb-47db7290a0c4"
      },
      "execution_count": 30,
      "outputs": [
        {
          "output_type": "stream",
          "name": "stdout",
          "text": [
            "        Epsilon  Naive Bayes  Non-Naive Bayes     KNN\n",
            "0  1e-3 (0.001)       0.7746           0.9108  0.9717\n",
            "1   1e-2 (0.01)       0.8141           0.9473  0.9717\n",
            "2    1e-1 (0.1)       0.7791           0.9542  0.9717\n",
            "3     1e0 (1.0)       0.6791           0.8847  0.9717\n"
          ]
        }
      ]
    },
    {
      "cell_type": "code",
      "source": [
        "bar_width = 0.2\n",
        "\n",
        "x = np.arange(len(results_df['Epsilon']))\n",
        "plt.figure(figsize=(10, 6))\n",
        "\n",
        "plt.bar(x - bar_width, results_df['Naive Bayes'], width=bar_width, label='Naive Bayes')\n",
        "plt.bar(x, results_df['Non-Naive Bayes'], width=bar_width, label='Non-Naive Bayes')\n",
        "plt.bar(x + bar_width, results_df['KNN'], width=bar_width, label='KNN')\n",
        "\n",
        "plt.xlabel('Epsilon Values')\n",
        "plt.ylabel('Accuracy')\n",
        "plt.title('Classifier Accuracy vs Epsilon Values')\n",
        "plt.xticks(x, results_df['Epsilon'])\n",
        "plt.ylim(0.6, 1)\n",
        "plt.grid(axis='y')\n",
        "plt.legend(title='Classifier')\n",
        "plt.tight_layout()\n",
        "plt.show()"
      ],
      "metadata": {
        "colab": {
          "base_uri": "https://localhost:8080/",
          "height": 607
        },
        "id": "lX5UoX6lsv4o",
        "outputId": "64ee7b75-1785-43d6-9b94-aa762c009178"
      },
      "execution_count": 32,
      "outputs": [
        {
          "output_type": "display_data",
          "data": {
            "text/plain": [
              "<Figure size 1000x600 with 1 Axes>"
            ],
            "image/png": "[encoded data removed]"
          },
          "metadata": {}
        }
      ]
    },
    {
      "cell_type": "code",
      "source": [],
      "metadata": {
        "id": "ToYmspactD9r"
      },
      "execution_count": null,
      "outputs": []
    }
  ]
}